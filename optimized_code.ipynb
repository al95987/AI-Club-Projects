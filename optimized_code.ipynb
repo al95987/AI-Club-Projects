{
 "cells": [
  {
   "cell_type": "code",
   "execution_count": null,
   "id": "98b94e5c",
   "metadata": {},
   "outputs": [],
   "source": [
    "# Import necessary libraries\n",
    "import yfinance as yf\n",
    "import matplotlib.pyplot as plt\n",
    "from statsmodels.tsa.arima.model import ARIMA\n",
    "from sklearn.metrics import mean_absolute_error"
   ]
  },
  {
   "cell_type": "code",
   "execution_count": null,
   "id": "c55fe031",
   "metadata": {},
   "outputs": [],
   "source": [
    "# Function to download and process stock data\n",
    "def process_stock_data(ticker, start_date, end_date):\n",
    "    data = yf.download(ticker, start=start_date, end=end_date)\n",
    "    closing_prices = data['Close']\n",
    "    return closing_prices"
   ]
  },
  {
   "cell_type": "code",
   "execution_count": null,
   "id": "153ef5a5",
   "metadata": {},
   "outputs": [],
   "source": [
    "# Function to fit and predict using ARIMA\n",
    "def arima_model(closing_prices):\n",
    "    model = ARIMA(closing_prices, order=(5,1,0))\n",
    "    model_fit = model.fit()\n",
    "    predictions = model_fit.predict(typ='levels')\n",
    "    return predictions"
   ]
  },
  {
   "cell_type": "code",
   "execution_count": null,
   "id": "07752e57",
   "metadata": {},
   "outputs": [],
   "source": [
    "# Function to plot the data\n",
    "def plot_data(actual, predicted, title):\n",
    "    plt.figure(figsize=(10,4))\n",
    "    plt.plot(actual, label='Original')\n",
    "    plt.plot(predicted, color='red', label='Predicted')\n",
    "    plt.title(title)\n",
    "    plt.xlabel('Time')\n",
    "    plt.ylabel('Price ($)')\n",
    "    plt.legend()\n",
    "    plt.grid(True)\n",
    "    plt.show()"
   ]
  },
  {
   "cell_type": "code",
   "execution_count": null,
   "id": "79b02e1c",
   "metadata": {},
   "outputs": [],
   "source": [
    "# Function to compute MAPE\n",
    "def compute_mape(actual, predicted):\n",
    "    mape = mean_absolute_error(actual, predicted)/len(actual) * 100\n",
    "    return round(mape, 2"
   ]
  },
  {
   "cell_type": "code",
   "execution_count": null,
   "id": "8211967d",
   "metadata": {},
   "outputs": [],
   "source": [
    "# Start and end dates\n",
    "start_date='2019-01-01'\n",
    "end_date='2023-07-21'\n",
    "\n",
    "# Process stock data\n",
    "closing_prices_apple = process_stock_data('AAPL', start_date, end_date)\n",
    "closing_prices_tesla = process_stock_data('TSLA', start_date, end_date)\n",
    "\n",
    "# Fit ARIMA and make predictions\n",
    "predictions_apple = arima_model(closing_prices_apple)\n",
    "predictions_tesla = arima_model(closing_prices_tesla)\n",
    "\n",
    "# Compute MAPE\n",
    "mape_apple = compute_mape(closing_prices_apple, predictions_apple)\n",
    "mape_tesla = compute_mape(closing_prices_tesla, predictions_tesla)\n",
    "\n",
    "# Print MAPE\n",
    "print(f\"MAPE for Apple: {mape_apple}%\")\n",
    "print(f\"MAPE for Tesla: {mape_tesla}%\")\n",
    "\n",
    "# Plot the data\n",
    "plot_data(closing_prices_apple, predictions_apple, 'Apple Stock Price: Original vs. Predicted')\n",
    "plot_data(closing_prices_tesla, predictions_tesla, 'Tesla Stock Price: Original vs. Predicted')"
   ]
  },
  {
   "cell_type": "code",
   "execution_count": null,
   "id": "dff235f6",
   "metadata": {},
   "outputs": [],
   "source": []
  },
  {
   "cell_type": "code",
   "execution_count": null,
   "id": "f6edaf8a",
   "metadata": {},
   "outputs": [],
   "source": []
  },
  {
   "cell_type": "code",
   "execution_count": null,
   "id": "a99dee14",
   "metadata": {},
   "outputs": [],
   "source": []
  },
  {
   "cell_type": "code",
   "execution_count": null,
   "id": "019afe59",
   "metadata": {},
   "outputs": [],
   "source": []
  }
 ],
 "metadata": {
  "kernelspec": {
   "display_name": "Python 3 (ipykernel)",
   "language": "python",
   "name": "python3"
  },
  "language_info": {
   "codemirror_mode": {
    "name": "ipython",
    "version": 3
   },
   "file_extension": ".py",
   "mimetype": "text/x-python",
   "name": "python",
   "nbconvert_exporter": "python",
   "pygments_lexer": "ipython3",
   "version": "3.10.9"
  }
 },
 "nbformat": 4,
 "nbformat_minor": 5
}
