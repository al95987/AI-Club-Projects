{
 "cells": [
  {
   "cell_type": "markdown",
   "id": "67ba5fdf",
   "metadata": {},
   "source": [
    "# Image Preprocessing Techniques\n",
    " \n",
    "In this notebook, we will show and explain different image preprocessing techniques using the Python Image Library (PIL) on a jpg image called 'flower.jpg'."
   ]
  },
  {
   "cell_type": "code",
   "execution_count": null,
   "id": "a167fbd4",
   "metadata": {},
   "outputs": [],
   "source": [
    "# Import necessary libraries\n",
    "\n",
    "from PIL import Image\n",
    "import matplotlib.pyplot as plt\n",
    "from PIL import Image, ImageOps\n",
    "import numpy as np"
   ]
  },
  {
   "cell_type": "markdown",
   "id": "fd7fd385",
   "metadata": {},
   "source": [
    "## Loading the Image\n",
    "\n",
    "First, we need to load our image using PIL's Image module."
   ]
  },
  {
   "cell_type": "code",
   "execution_count": null,
   "id": "a717de12",
   "metadata": {},
   "outputs": [],
   "source": [
    "# Open an image file\n",
    "img = Image.open('flower.jpeg')\n",
    "plt.imshow(img)\n",
    "plt.show()"
   ]
  },
  {
   "cell_type": "markdown",
   "id": "4675a9b2",
   "metadata": {},
   "source": [
    "This is our original image which we will be using for all further transformations.\n",
    "\n",
    "## Resizing\n",
    "\n",
    "Resizing is a common preprocessing step in image processing. It is used to change the dimensions (width and height) of the image. Here we resize the image to 200x200 pixels."
   ]
  },
  {
   "cell_type": "code",
   "execution_count": null,
   "id": "208992dc",
   "metadata": {},
   "outputs": [],
   "source": [
    "# Resize the image\n",
    "resized_img = img.resize((200, 200))\n",
    "plt.imshow(resized_img)\n",
    "plt.show()"
   ]
  },
  {
   "cell_type": "markdown",
   "id": "74ab7803",
   "metadata": {},
   "source": [
    "The resized image has the same aspect ratio as the original, but is now 200 pixels in both dimensions.\n",
    "\n",
    "## Rotation\n",
    "\n",
    "Rotating an image is another common preprocessing step. This transformation is used when the model needs to be invariant to the rotation of the input images. Here we rotate the image by 45 degrees."
   ]
  },
  {
   "cell_type": "code",
   "execution_count": null,
   "id": "312831f1",
   "metadata": {},
   "outputs": [],
   "source": [
    "# Rotate the image\n",
    "rotated_img = img.rotate(45)\n",
    "plt.imshow(rotated_img)\n",
    "plt.show()"
   ]
  },
  {
   "cell_type": "markdown",
   "id": "bb34a9dc",
   "metadata": {},
   "source": [
    "The image has been rotated by 45 degrees counter-clockwise. The corners of the original image, now outside the image boundary, are filled with black color.\n",
    "\n",
    "## Flipping\n",
    "\n",
    "Flipping an image horizontally or vertically can be useful in certain situations, especially when training neural networks, as it can create additional training data. Here, we flip the image horizontally."
   ]
  },
  {
   "cell_type": "code",
   "execution_count": null,
   "id": "b92cbb57",
   "metadata": {},
   "outputs": [],
   "source": [
    "# Flip the image horizontally\n",
    "flipped_img = img.transpose(Image.FLIP_LEFT_RIGHT)\n",
    "plt.imshow(flipped_img)\n",
    "plt.show()"
   ]
  },
  {
   "cell_type": "markdown",
   "id": "fbb9be96",
   "metadata": {},
   "source": [
    "The resulting image is a mirror image of the original. This transformation might be useful when the model needs to recognize objects in different orientations.\n",
    "\n",
    "## Cropping\n",
    "\n",
    "Cropping an image can be useful when you want to focus on a specific part of the image. Here, we crop the center of the image."
   ]
  },
  {
   "cell_type": "code",
   "execution_count": null,
   "id": "c3c60771",
   "metadata": {},
   "outputs": [],
   "source": [
    "# Crop the image\n",
    "width, height = img.size\n",
    "start = (width - 200)/2, (height - 200)/2\n",
    "end = (width + 200)/2, (height + 200)/2\n",
    "cropped_img = img.crop((*start, *end))\n",
    "plt.imshow(cropped_img)\n",
    "plt.show()"
   ]
  },
  {
   "cell_type": "markdown",
   "id": "451b91ed",
   "metadata": {},
   "source": [
    "## Brightness Adjustment\n",
    "\n",
    "Adjusting the brightness of an image can be useful in scenarios where lighting conditions vary. Here, we increase the brightness of the image by 50%."
   ]
  },
  {
   "cell_type": "code",
   "execution_count": null,
   "id": "72c43ea8",
   "metadata": {},
   "outputs": [],
   "source": [
    "# Adjust brightness\n",
    "from PIL import ImageEnhance\n",
    "enhancer = ImageEnhance.Brightness(img)\n",
    "brightened_img = enhancer.enhance(1.5)\n",
    "plt.imshow(brightened_img)\n",
    "plt.show()"
   ]
  },
  {
   "cell_type": "markdown",
   "id": "a41c1394",
   "metadata": {},
   "source": [
    "The brightness of the image has been increased by 50%, making all colors more vivid.\n",
    "\n",
    "## Color Inversion\n",
    "\n",
    "Inverting the colors of an image (also known as a negative image) can sometimes help in emphasizing details. Here, we create a color inverted image."
   ]
  },
  {
   "cell_type": "code",
   "execution_count": null,
   "id": "f9ff69ee",
   "metadata": {},
   "outputs": [],
   "source": [
    "# Invert colors\n",
    "inverted_img = ImageOps.invert(img)\n",
    "plt.imshow(inverted_img)\n",
    "plt.show()"
   ]
  },
  {
   "cell_type": "markdown",
   "id": "386d7642",
   "metadata": {},
   "source": [
    "The color inverted image swaps each color with its complementary color. This can be useful to highlight certain details that are less noticeable in the original image.\n",
    "\n",
    "## Normalization\n",
    "\n",
    "Normalization is a process that changes the range of pixel intensity values to a standard range, usually 0 to 1. This is a crucial step before training a neural network."
   ]
  },
  {
   "cell_type": "code",
   "execution_count": null,
   "id": "d027eae2",
   "metadata": {},
   "outputs": [],
   "source": [
    "# Normalize image\n",
    "np_img = np.array(img)"
   ]
  },
  {
   "cell_type": "code",
   "execution_count": null,
   "id": "9dd39e94",
   "metadata": {},
   "outputs": [],
   "source": [
    "np_img"
   ]
  },
  {
   "cell_type": "code",
   "execution_count": null,
   "id": "edc3cf71",
   "metadata": {},
   "outputs": [],
   "source": [
    "normalized_img = np_img / 255.0"
   ]
  },
  {
   "cell_type": "code",
   "execution_count": null,
   "id": "a1fbe5c7",
   "metadata": {},
   "outputs": [],
   "source": [
    "normalized_img"
   ]
  },
  {
   "cell_type": "code",
   "execution_count": null,
   "id": "21550739",
   "metadata": {},
   "outputs": [],
   "source": [
    "plt.imshow(normalized_img)\n",
    "plt.title('Normalized Image')\n",
    "plt.show()"
   ]
  },
  {
   "cell_type": "markdown",
   "id": "c72ead07",
   "metadata": {},
   "source": [
    "## Gaussian Noise\n",
    "\n",
    "Injecting random noise into your images can help to make your model more robust. Here, we will add Gaussian noise to the image. Gaussian noise is statistical noise having a probability density function equal to the normal distribution (also known as Gaussian distribution)."
   ]
  },
  {
   "cell_type": "code",
   "execution_count": null,
   "id": "198d68e8",
   "metadata": {},
   "outputs": [],
   "source": [
    "# Add Gaussian noise\n",
    "noise = np.random.normal(loc=0.0, scale=0.1, size=np_img.shape)\n",
    "noisy_img = np_img + noise\n",
    "noisy_img_clipped = np.clip(noisy_img, 0., 1.)  # We need to clip values to the valid range for images (0-1)\n",
    "plt.imshow(noisy_img_clipped)\n",
    "plt.title('Image with Gaussian Noise')\n",
    "plt.show()"
   ]
  }
 ],
 "metadata": {
  "kernelspec": {
   "display_name": "Python 3 (ipykernel)",
   "language": "python",
   "name": "python3"
  },
  "language_info": {
   "codemirror_mode": {
    "name": "ipython",
    "version": 3
   },
   "file_extension": ".py",
   "mimetype": "text/x-python",
   "name": "python",
   "nbconvert_exporter": "python",
   "pygments_lexer": "ipython3",
   "version": "3.10.9"
  }
 },
 "nbformat": 4,
 "nbformat_minor": 5
}
